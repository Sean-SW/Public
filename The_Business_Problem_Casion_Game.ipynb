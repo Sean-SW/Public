{
  "nbformat": 4,
  "nbformat_minor": 0,
  "metadata": {
    "colab": {
      "name": "The Business Problem: Casion Game.ipynb",
      "provenance": [],
      "collapsed_sections": [],
      "include_colab_link": true
    },
    "kernelspec": {
      "name": "python3",
      "display_name": "Python 3"
    },
    "language_info": {
      "name": "python"
    }
  },
  "cells": [
    {
      "cell_type": "markdown",
      "metadata": {
        "id": "view-in-github",
        "colab_type": "text"
      },
      "source": [
        "<a href=\"https://colab.research.google.com/github/Sean-SW/Public/blob/main/The_Business_Problem_Casion_Game.ipynb\" target=\"_parent\"><img src=\"https://colab.research.google.com/assets/colab-badge.svg\" alt=\"Open In Colab\"/></a>"
      ]
    },
    {
      "cell_type": "markdown",
      "metadata": {
        "id": "32upflRAB_cE"
      },
      "source": [
        "## The Business Problem:\n",
        "\n",
        "The newly constructed Encore Casino in Boston Harbor is evaluating the creation of a new table game involving dice.\n",
        "\n",
        "- The roll of a dice occurs a minimum of two times, but per the rules of the game, could require an additional 3rd roll.\n",
        "\n",
        "- A dice is defined as an entity that when rolled, it will return a single value between 1 and 6, often referred to as the face value.\n",
        "\n",
        "- The face values of 1,2,3,4,5,6 are all equally likely.\n",
        "\n",
        "The casino has found that the typical user joins a table with 10 credits, and are planning on charging a single credit for a play of the game.  \n",
        "\n",
        "Only one player can be at the table at a time.  \n",
        "\n",
        "They hired your analytics firm to better understand the risk of the proposed idea.\n",
        "\n",
        "The Rules:\n",
        "\n",
        "1. A game is initiated by rolling a dice, two seperate times, and recording the Grand Total, which is the sum of the first and second rolls.\n",
        "\n",
        "1. If the Grand Total after two rolls of the dice is less than or equal to 9, the dice **must be** rolled one more time, with the face value recorded and added to the Grand Total.\n",
        "\n",
        "1. If the Grand Total after two rolls of the dice is greater than 10, no more rolls of the dice will take place.\n",
        "\n",
        "1. In the event that the Grand Total is equal to 10, a 3rd roll can  conditionally take place based on player's decision. The business asks you to model player decision by a random process so that on average 90% of the time players choose a third roll. If a third roll takes place, add the face value of the roll to the Grand Total. Consequently, on average 10% of the time player model chooses not to roll, so the Grand Total is taken from the previous two rolls of the dice.\n",
        "\n",
        "Once the game has concluded, the proposed payout structure is as follows:\n",
        "\n",
        "- A Grand Total of 9 or less results in a loss for the user.  That is, no payout.\n",
        "- A Grand Total of 10 or 12 pays out 1 credit\n",
        "- A Grand Total of 13 pays out 2 credits\n",
        "- A Grand Total of 11, 14 or 15 results in a loss for the user.  That is, no payout.\n",
        "- A Grand Total of 16 pays out 5 credits\n",
        "\n",
        "The user must leave the table under one of two conditions:\n",
        "\n",
        "1.  They run out of credits\n",
        "1.  They have played the game 25 times.  \n",
        "\n",
        "\n",
        "Your Exercise:\n",
        "\n",
        "Create a class called `dice_game` and save your work in a python script (not a notebook!) called `a3.py`.\n",
        "\n",
        "Your class will allow the Casino to study the gameplay and assess its risk.\n",
        "\n",
        "Your class should have the following attributes:\n",
        "\n",
        "1. `players` which is an integer.  By default, this value should be 50 and internally represents the number of players the casino believes will play in a given day.\n",
        "\n",
        "2. `wallet` which is a list.  Each entry in `wallet` should itemize the player's final credits after attempting to play the dice game above.  A value of 0 represents they ran out of money, otherwise, the total credits remaining after 25 rounds of the game. By default, this list is empty.\n",
        "\n",
        "2.  `games_played` which is a list.  Each entry should itemize how many plays of the game occurred for a player sitting down at the table.  The maximum value for any entry in the list must be 25 (for maximum games played).  By default, this list is empty.\n",
        "\n",
        "Your class should have the following methods:\n",
        "\n",
        "1.  `simulate` which will simulate a session at the table for a number of players.  The number of players is defined by `players` attribute described above.\n",
        "1.  `avg_rounds` which will return an integer indicating the average rounds at the table for all `players`\n",
        "1.  `profit` which will return an integer indicating the net number of credits the Casino can expect to make or lose across the simulation of the game for all `players`"
      ]
    },
    {
      "cell_type": "code",
      "metadata": {
        "id": "FCCKVXYupxpp"
      },
      "source": [
        "import numpy as np\n",
        "import random\n",
        "import scipy\n",
        "from scipy import stats\n",
        "import matplotlib.pyplot as plt\n",
        "import pandas as pd\n",
        "import itertools\n",
        "\n",
        "\n",
        "class dice_game():\n",
        "    \"\"\"a dice_game class\"\"\"\n",
        "\n",
        "    def __init__(self , default = 50):\n",
        "        self.players = default\n",
        "        self.wallet = []\n",
        "        self.games_played = []\n",
        "\n",
        "    def simulate(self):\n",
        "        \"\"\"for this method, we will simulate a session at the table for a number of players\"\"\"\n",
        "        player = 1\n",
        "        total_players_output = []\n",
        "        def each_player():\n",
        "          \"\"\"for this method, we will simulate the output of only one player\"\"\"\n",
        "          player_output = []\n",
        "          player_credit = []\n",
        "          round = 1\n",
        "          credit = 10\n",
        "          while round <= 25 and credit > 0:\n",
        "            credit -= 1\n",
        "            roll = np.random.choice([1,2,3,4,5,6],2)\n",
        "            grand_total = np.array([sum(roll)])\n",
        "            extra_roll = np.random.choice([1,2,3,4,5,6],1)\n",
        "            if grand_total <= 9:\n",
        "              grand_total += extra_roll\n",
        "              player_output.append(grand_total)\n",
        "            elif grand_total == 10:\n",
        "              if np.random.uniform(0,10,1) < 9:\n",
        "                grand_total += extra_roll\n",
        "                player_output.append(grand_total)\n",
        "              else:\n",
        "                player_output.append(grand_total)\n",
        "            else:\n",
        "              player_output.append(grand_total)\n",
        "            if grand_total <= 9  or grand_total == 11 or grand_total ==14 or grand_total == 15:\n",
        "              credit += 0\n",
        "              player_credit.append(credit)\n",
        "            elif grand_total == 10 or grand_total == 12:\n",
        "              credit += 1\n",
        "              player_credit.append(credit)\n",
        "            elif grand_total == 13:\n",
        "              credit += 2\n",
        "              player_credit.append(credit)\n",
        "            else:\n",
        "              credit += 5\n",
        "              player_credit.append(credit)\n",
        "            round += 1\n",
        "          round_played = len(player_credit)\n",
        "          last_round = player_credit [-1]\n",
        "          return (player_credit)\n",
        "           \n",
        "        for player in range(self.players):\n",
        "          total_players_output.append(each_player())\n",
        "        table = np.array(list(itertools.zip_longest(*total_players_output, fillvalue = \"N/A\"))).T \n",
        "        for i in total_players_output:\n",
        "          self.wallet.append(i[-1])\n",
        "          self.games_played.append(len(i))\n",
        "        return (table)\n",
        "\n",
        "    def avg_rounds(self):\n",
        "      \"\"\"for this method, we will return an integer indicating the average rounds at the table for all players\"\"\"\n",
        "      total_rounds_played = 0\n",
        "      for x in self.games_played:\n",
        "        total_rounds_played += x\n",
        "      average_rounds_played = total_rounds_played / self.players\n",
        "      return (round(average_rounds_played))\n",
        "\n",
        "    def profit(self):\n",
        "      \"\"\"for this method, we will return an integer indicating the net number of credits the Casino can expect to make or lose across the simulation of the game for all players\"\"\"\n",
        "      casino_credit = sum(np.array(self.games_played))\n",
        "      players_credit = sum(np.array(self.wallet))\n",
        "      net_casino_credit =  casino_credit - players_credit\n",
        "      return (net_casino_credit)\n",
        "\n",
        "\n",
        "\n",
        "\n"
      ],
      "execution_count": null,
      "outputs": []
    },
    {
      "cell_type": "code",
      "metadata": {
        "id": "2URC3rJcpwvg"
      },
      "source": [
        "game = dice_game()\n"
      ],
      "execution_count": null,
      "outputs": []
    },
    {
      "cell_type": "code",
      "metadata": {
        "colab": {
          "base_uri": "https://localhost:8080/"
        },
        "id": "xo2gWhcsqPxo",
        "outputId": "b829f48b-6043-49db-dd01-d3edb2251a31"
      },
      "source": [
        "print(\"Simulate Table:\" , game.simulate())\n",
        "print(\"Each player's final credit:\" ,game.wallet, type(game.wallet))\n",
        "print(\"Number of rounds each player plays:\" ,game.games_played, type(game.games_played))\n",
        "print(\"Average rounds for all players:\" ,game.avg_rounds())\n",
        "print(\"Number of Credit the Casino make: \" , game.profit())"
      ],
      "execution_count": null,
      "outputs": [
        {
          "output_type": "stream",
          "name": "stdout",
          "text": [
            "Simulate Table: [['10' '10' '9' ... '1' '0' 'N/A']\n",
            " ['9' '8' '7' ... 'N/A' 'N/A' 'N/A']\n",
            " ['10' '11' '10' ... 'N/A' 'N/A' 'N/A']\n",
            " ...\n",
            " ['9' '10' '10' ... '3' '2' '1']\n",
            " ['9' '8' '7' ... 'N/A' 'N/A' 'N/A']\n",
            " ['9' '8' '8' ... 'N/A' 'N/A' 'N/A']]\n",
            "Each player's final credit: [0, 0, 0, 0, 1, 0, 3, 0, 0, 0, 0, 0, 0, 0, 0, 0, 0, 0, 0, 0, 0, 7, 3, 0, 0, 0, 0, 0, 0, 0, 0, 0, 0, 0, 0, 4, 0, 0, 2, 0, 3, 0, 0, 0, 2, 0, 0, 1, 0, 0] <class 'list'>\n",
            "Number of rounds each player plays: [24, 16, 19, 13, 25, 15, 25, 17, 16, 17, 14, 16, 15, 17, 15, 22, 15, 19, 18, 17, 17, 25, 25, 25, 20, 20, 19, 19, 20, 13, 13, 16, 13, 13, 23, 25, 21, 23, 25, 15, 25, 20, 12, 19, 25, 18, 13, 25, 15, 16] <class 'list'>\n",
            "Average rounds for all players: 19\n",
            "Number of Credit the Casino make:  907\n"
          ]
        }
      ]
    }
  ]
}